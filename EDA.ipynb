{
 "cells": [
  {
   "cell_type": "code",
   "execution_count": 609,
   "metadata": {},
   "outputs": [],
   "source": [
    "reset -fs"
   ]
  },
  {
   "cell_type": "code",
   "execution_count": 612,
   "metadata": {},
   "outputs": [],
   "source": [
    "import pandas as pd\n",
    "import matplotlib.pyplot as plt\n",
    "import seaborn as sns\n",
    "import numpy as np\n",
    "\n",
    "from sklearn.preprocessing import OneHotEncoder\n",
    "from sklearn import linear_model, tree\n",
    "from sklearn.model_selection import train_test_split,cross_val_score, cross_val_predict,GridSearchCV,RandomizedSearchCV\n",
    "from sklearn.ensemble import RandomForestClassifier\n",
    "from sklearn.linear_model import LogisticRegression\n",
    " \n",
    "from sklearn.metrics import roc_curve, confusion_matrix,precision_recall_curve,roc_auc_score\n",
    "from sklearn.metrics import precision_score, recall_score, f1_score, accuracy_score \n",
    "\n",
    "import xgboost as xgb # note for installation use py-xgboost in conda\n",
    "\n",
    "from sklearn.compose import ColumnTransformer\n",
    "from sklearn.pipeline import Pipeline\n",
    "from sklearn.impute import SimpleImputer\n",
    "from sklearn.preprocessing import StandardScaler, OneHotEncoder\n",
    "from sklearn.feature_selection import SelectFromModel\n",
    "from sklearn.tree import DecisionTreeClassifier\n",
    "\n",
    "%matplotlib inline\n",
    "plt.style.use('seaborn')\n",
    "np.random.seed(42)"
   ]
  },
  {
   "cell_type": "code",
   "execution_count": 1146,
   "metadata": {},
   "outputs": [],
   "source": [
    "def get_col_descr(feature):\n",
    "    return column_description[column_description.row == feature].loc[:, 'description'].tolist()\n",
    "\n",
    "def isNaN(num):\n",
    "    return num != num\n",
    "\n",
    "def hist_print(data1, data0):\n",
    "    plt.hist(data1, alpha=0.4, label='target: 1', bins=20, weights=np.ones(len(data1)) / len(data1))\n",
    "    plt.hist(data0, alpha=0.4, label='target: 0', bins=20, weights=np.ones(len(data0)) / len(data0))\n",
    "    plt.legend(loc='best')\n",
    "    plt.show()"
   ]
  },
  {
   "cell_type": "code",
   "execution_count": 614,
   "metadata": {},
   "outputs": [],
   "source": [
    "train = pd.read_csv('application_train.csv')\n",
    "test = pd.read_csv('application_test.csv')\n",
    "test['target'] = -999\n",
    "train.columns = train.columns.str.lower()\n",
    "test.columns = test.columns.str.lower()\n",
    "\n",
    "train['dataset'] = 'train'\n",
    "test['dataset'] = 'test'\n",
    "\n",
    "X = pd.concat([train,test],sort=True)"
   ]
  },
  {
   "cell_type": "code",
   "execution_count": 448,
   "metadata": {},
   "outputs": [],
   "source": [
    "num_features = list(X.columns[X.dtypes!=object])\n",
    "num_features.remove('target')\n",
    "cat_features = list(X.columns[X.dtypes==object])"
   ]
  },
  {
   "cell_type": "code",
   "execution_count": 619,
   "metadata": {},
   "outputs": [
    {
     "name": "stderr",
     "output_type": "stream",
     "text": [
      "/Users/johannespastorek/opt/anaconda3/envs/nf/lib/python3.6/site-packages/pandas/core/frame.py:3940: SettingWithCopyWarning: \n",
      "A value is trying to be set on a copy of a slice from a DataFrame\n",
      "\n",
      "See the caveats in the documentation: http://pandas.pydata.org/pandas-docs/stable/indexing.html#indexing-view-versus-copy\n",
      "  errors=errors)\n",
      "/Users/johannespastorek/opt/anaconda3/envs/nf/lib/python3.6/site-packages/ipykernel_launcher.py:5: SettingWithCopyWarning: \n",
      "A value is trying to be set on a copy of a slice from a DataFrame.\n",
      "Try using .loc[row_indexer,col_indexer] = value instead\n",
      "\n",
      "See the caveats in the documentation: http://pandas.pydata.org/pandas-docs/stable/indexing.html#indexing-view-versus-copy\n",
      "  \"\"\"\n"
     ]
    },
    {
     "data": {
      "text/html": [
       "<div>\n",
       "<style scoped>\n",
       "    .dataframe tbody tr th:only-of-type {\n",
       "        vertical-align: middle;\n",
       "    }\n",
       "\n",
       "    .dataframe tbody tr th {\n",
       "        vertical-align: top;\n",
       "    }\n",
       "\n",
       "    .dataframe thead th {\n",
       "        text-align: right;\n",
       "    }\n",
       "</style>\n",
       "<table border=\"1\" class=\"dataframe\">\n",
       "  <thead>\n",
       "    <tr style=\"text-align: right;\">\n",
       "      <th></th>\n",
       "      <th>row</th>\n",
       "      <th>description</th>\n",
       "      <th>special</th>\n",
       "    </tr>\n",
       "  </thead>\n",
       "  <tbody>\n",
       "    <tr>\n",
       "      <th>0</th>\n",
       "      <td>sk_id_curr</td>\n",
       "      <td>ID of loan in our sample</td>\n",
       "      <td>NaN</td>\n",
       "    </tr>\n",
       "    <tr>\n",
       "      <th>1</th>\n",
       "      <td>target</td>\n",
       "      <td>Target variable (1 - client with payment diffi...</td>\n",
       "      <td>NaN</td>\n",
       "    </tr>\n",
       "  </tbody>\n",
       "</table>\n",
       "</div>"
      ],
      "text/plain": [
       "          row                                        description special\n",
       "0  sk_id_curr                           ID of loan in our sample     NaN\n",
       "1      target  Target variable (1 - client with payment diffi...     NaN"
      ]
     },
     "execution_count": 619,
     "metadata": {},
     "output_type": "execute_result"
    }
   ],
   "source": [
    "cols = pd.read_csv('HomeCredit_columns_description.csv', encoding= 'unicode_escape')\n",
    "column_description = cols[cols.Table == 'application_{train|test}.csv']\n",
    "column_description.columns = column_description.columns.str.lower()\n",
    "column_description.drop(['unnamed: 0', 'table'], axis=1, inplace=True)\n",
    "column_description['row'] = column_description['row'].apply(lambda x: x.lower())\n",
    "column_description.head(2)"
   ]
  },
  {
   "cell_type": "code",
   "execution_count": 450,
   "metadata": {},
   "outputs": [
    {
     "data": {
      "text/plain": [
       "array([nan, 'normalized ', 'time only relative to the application',\n",
       "       'rounded', 'normalized'], dtype=object)"
      ]
     },
     "execution_count": 450,
     "metadata": {},
     "output_type": "execute_result"
    }
   ],
   "source": [
    "special_col = column_description.special.unique()\n",
    "special_col"
   ]
  },
  {
   "cell_type": "code",
   "execution_count": 451,
   "metadata": {},
   "outputs": [
    {
     "data": {
      "text/html": [
       "<div>\n",
       "<style scoped>\n",
       "    .dataframe tbody tr th:only-of-type {\n",
       "        vertical-align: middle;\n",
       "    }\n",
       "\n",
       "    .dataframe tbody tr th {\n",
       "        vertical-align: top;\n",
       "    }\n",
       "\n",
       "    .dataframe thead th {\n",
       "        text-align: right;\n",
       "    }\n",
       "</style>\n",
       "<table border=\"1\" class=\"dataframe\">\n",
       "  <thead>\n",
       "    <tr style=\"text-align: right;\">\n",
       "      <th></th>\n",
       "      <th>row</th>\n",
       "      <th>description</th>\n",
       "      <th>special</th>\n",
       "    </tr>\n",
       "  </thead>\n",
       "  <tbody>\n",
       "    <tr>\n",
       "      <th>17</th>\n",
       "      <td>days_birth</td>\n",
       "      <td>Client's age in days at the time of application</td>\n",
       "      <td>time only relative to the application</td>\n",
       "    </tr>\n",
       "    <tr>\n",
       "      <th>18</th>\n",
       "      <td>days_employed</td>\n",
       "      <td>How many days before the application the perso...</td>\n",
       "      <td>time only relative to the application</td>\n",
       "    </tr>\n",
       "    <tr>\n",
       "      <th>19</th>\n",
       "      <td>days_registration</td>\n",
       "      <td>How many days before the application did clien...</td>\n",
       "      <td>time only relative to the application</td>\n",
       "    </tr>\n",
       "    <tr>\n",
       "      <th>20</th>\n",
       "      <td>days_id_publish</td>\n",
       "      <td>How many days before the application did clien...</td>\n",
       "      <td>time only relative to the application</td>\n",
       "    </tr>\n",
       "  </tbody>\n",
       "</table>\n",
       "</div>"
      ],
      "text/plain": [
       "                  row                                        description  \\\n",
       "17         days_birth    Client's age in days at the time of application   \n",
       "18      days_employed  How many days before the application the perso...   \n",
       "19  days_registration  How many days before the application did clien...   \n",
       "20    days_id_publish  How many days before the application did clien...   \n",
       "\n",
       "                                  special  \n",
       "17  time only relative to the application  \n",
       "18  time only relative to the application  \n",
       "19  time only relative to the application  \n",
       "20  time only relative to the application  "
      ]
     },
     "execution_count": 451,
     "metadata": {},
     "output_type": "execute_result"
    }
   ],
   "source": [
    "column_description[column_description.special == special_col[2]]"
   ]
  },
  {
   "cell_type": "code",
   "execution_count": 452,
   "metadata": {},
   "outputs": [
    {
     "data": {
      "text/html": [
       "<div>\n",
       "<style scoped>\n",
       "    .dataframe tbody tr th:only-of-type {\n",
       "        vertical-align: middle;\n",
       "    }\n",
       "\n",
       "    .dataframe tbody tr th {\n",
       "        vertical-align: top;\n",
       "    }\n",
       "\n",
       "    .dataframe thead th {\n",
       "        text-align: right;\n",
       "    }\n",
       "</style>\n",
       "<table border=\"1\" class=\"dataframe\">\n",
       "  <thead>\n",
       "    <tr style=\"text-align: right;\">\n",
       "      <th></th>\n",
       "      <th>row</th>\n",
       "      <th>description</th>\n",
       "      <th>special</th>\n",
       "    </tr>\n",
       "  </thead>\n",
       "  <tbody>\n",
       "    <tr>\n",
       "      <th>16</th>\n",
       "      <td>region_population_relative</td>\n",
       "      <td>Normalized population of region where client l...</td>\n",
       "      <td>normalized</td>\n",
       "    </tr>\n",
       "  </tbody>\n",
       "</table>\n",
       "</div>"
      ],
      "text/plain": [
       "                           row  \\\n",
       "16  region_population_relative   \n",
       "\n",
       "                                          description      special  \n",
       "16  Normalized population of region where client l...  normalized   "
      ]
     },
     "execution_count": 452,
     "metadata": {},
     "output_type": "execute_result"
    }
   ],
   "source": [
    "column_description[column_description.special == special_col[1]]"
   ]
  },
  {
   "cell_type": "code",
   "execution_count": 453,
   "metadata": {},
   "outputs": [
    {
     "data": {
      "text/html": [
       "<div>\n",
       "<style scoped>\n",
       "    .dataframe tbody tr th:only-of-type {\n",
       "        vertical-align: middle;\n",
       "    }\n",
       "\n",
       "    .dataframe tbody tr th {\n",
       "        vertical-align: top;\n",
       "    }\n",
       "\n",
       "    .dataframe thead th {\n",
       "        text-align: right;\n",
       "    }\n",
       "</style>\n",
       "<table border=\"1\" class=\"dataframe\">\n",
       "  <thead>\n",
       "    <tr style=\"text-align: right;\">\n",
       "      <th></th>\n",
       "      <th>row</th>\n",
       "      <th>description</th>\n",
       "      <th>special</th>\n",
       "    </tr>\n",
       "  </thead>\n",
       "  <tbody>\n",
       "    <tr>\n",
       "      <th>33</th>\n",
       "      <td>hour_appr_process_start</td>\n",
       "      <td>Approximately at what hour did the client appl...</td>\n",
       "      <td>rounded</td>\n",
       "    </tr>\n",
       "  </tbody>\n",
       "</table>\n",
       "</div>"
      ],
      "text/plain": [
       "                        row  \\\n",
       "33  hour_appr_process_start   \n",
       "\n",
       "                                          description  special  \n",
       "33  Approximately at what hour did the client appl...  rounded  "
      ]
     },
     "execution_count": 453,
     "metadata": {},
     "output_type": "execute_result"
    }
   ],
   "source": [
    "column_description[column_description.special == special_col[3]]"
   ]
  },
  {
   "cell_type": "code",
   "execution_count": 454,
   "metadata": {},
   "outputs": [
    {
     "data": {
      "text/plain": [
       "target                          1.000000\n",
       "ext_source_3                    0.019079\n",
       "years_build_medi                0.004344\n",
       "years_build_mode                0.004129\n",
       "years_build_avg                 0.004087\n",
       "ext_source_1                    0.001624\n",
       "nonlivingapartments_mode       -0.002111\n",
       "nonlivingapartments_medi       -0.002401\n",
       "nonlivingapartments_avg        -0.003073\n",
       "landarea_avg                   -0.003683\n",
       "landarea_medi                  -0.003815\n",
       "landarea_mode                  -0.004069\n",
       "nonlivingarea_avg              -0.005139\n",
       "nonlivingarea_medi             -0.005240\n",
       "nonlivingarea_mode             -0.005617\n",
       "basementarea_mode              -0.006052\n",
       "years_beginexpluatation_medi   -0.006367\n",
       "years_beginexpluatation_avg    -0.006578\n",
       "ext_source_2                   -0.006687\n",
       "basementarea_medi              -0.006712\n",
       "years_beginexpluatation_mode   -0.006769\n",
       "entrances_mode                 -0.006796\n",
       "basementarea_avg               -0.006897\n",
       "entrances_medi                 -0.006908\n",
       "entrances_avg                  -0.007156\n",
       "commonarea_mode                -0.012340\n",
       "floorsmin_mode                 -0.012506\n",
       "commonarea_medi                -0.012771\n",
       "floorsmin_medi                 -0.013365\n",
       "commonarea_avg                 -0.013590\n",
       "floorsmin_avg                  -0.014072\n",
       "livingarea_mode                -0.014599\n",
       "livingarea_medi                -0.014710\n",
       "totalarea_mode                 -0.014781\n",
       "livingarea_avg                 -0.015328\n",
       "apartments_mode                -0.015529\n",
       "elevators_medi                 -0.015599\n",
       "apartments_medi                -0.015732\n",
       "apartments_avg                 -0.015820\n",
       "elevators_mode                 -0.015922\n",
       "elevators_avg                  -0.016039\n",
       "floorsmax_mode                 -0.017127\n",
       "floorsmax_medi                 -0.017407\n",
       "floorsmax_avg                  -0.017857\n",
       "livingapartments_mode          -0.018435\n",
       "livingapartments_medi          -0.018818\n",
       "livingapartments_avg           -0.019050\n",
       "Name: target, dtype: float64"
      ]
     },
     "execution_count": 454,
     "metadata": {},
     "output_type": "execute_result"
    }
   ],
   "source": [
    "norm_df = column_description[column_description.special == special_col[4]] #normalized\n",
    "X[norm_df.row.tolist() + ['target']].corr().target.sort_values(ascending=False)"
   ]
  },
  {
   "cell_type": "code",
   "execution_count": 455,
   "metadata": {},
   "outputs": [
    {
     "name": "stdout",
     "output_type": "stream",
     "text": [
      "<class 'pandas.core.frame.DataFrame'>\n",
      "RangeIndex: 48744 entries, 0 to 48743\n",
      "Data columns (total 50 columns):\n",
      "ext_source_1                    28212 non-null float64\n",
      "ext_source_2                    48736 non-null float64\n",
      "ext_source_3                    40076 non-null float64\n",
      "apartments_avg                  24857 non-null float64\n",
      "basementarea_avg                21103 non-null float64\n",
      "years_beginexpluatation_avg     25888 non-null float64\n",
      "years_build_avg                 16926 non-null float64\n",
      "commonarea_avg                  15249 non-null float64\n",
      "elevators_avg                   23555 non-null float64\n",
      "entrances_avg                   25165 non-null float64\n",
      "floorsmax_avg                   25423 non-null float64\n",
      "floorsmin_avg                   16278 non-null float64\n",
      "landarea_avg                    20490 non-null float64\n",
      "livingapartments_avg            15964 non-null float64\n",
      "livingarea_avg                  25192 non-null float64\n",
      "nonlivingapartments_avg         15397 non-null float64\n",
      "nonlivingarea_avg               22660 non-null float64\n",
      "apartments_mode                 24857 non-null float64\n",
      "basementarea_mode               21103 non-null float64\n",
      "years_beginexpluatation_mode    25888 non-null float64\n",
      "years_build_mode                16926 non-null float64\n",
      "commonarea_mode                 15249 non-null float64\n",
      "elevators_mode                  23555 non-null float64\n",
      "entrances_mode                  25165 non-null float64\n",
      "floorsmax_mode                  25423 non-null float64\n",
      "floorsmin_mode                  16278 non-null float64\n",
      "landarea_mode                   20490 non-null float64\n",
      "livingapartments_mode           15964 non-null float64\n",
      "livingarea_mode                 25192 non-null float64\n",
      "nonlivingapartments_mode        15397 non-null float64\n",
      "nonlivingarea_mode              22660 non-null float64\n",
      "apartments_medi                 24857 non-null float64\n",
      "basementarea_medi               21103 non-null float64\n",
      "years_beginexpluatation_medi    25888 non-null float64\n",
      "years_build_medi                16926 non-null float64\n",
      "commonarea_medi                 15249 non-null float64\n",
      "elevators_medi                  23555 non-null float64\n",
      "entrances_medi                  25165 non-null float64\n",
      "floorsmax_medi                  25423 non-null float64\n",
      "floorsmin_medi                  16278 non-null float64\n",
      "landarea_medi                   20490 non-null float64\n",
      "livingapartments_medi           15964 non-null float64\n",
      "livingarea_medi                 25192 non-null float64\n",
      "nonlivingapartments_medi        15397 non-null float64\n",
      "nonlivingarea_medi              22660 non-null float64\n",
      "fondkapremont_mode              15947 non-null object\n",
      "housetype_mode                  25125 non-null object\n",
      "totalarea_mode                  26120 non-null float64\n",
      "wallsmaterial_mode              24851 non-null object\n",
      "emergencystate_mode             26535 non-null object\n",
      "dtypes: float64(46), object(4)\n",
      "memory usage: 18.6+ MB\n"
     ]
    }
   ],
   "source": [
    "#X[norm_df.row.tolist()].info()\n",
    "test[norm_df.row.tolist()].info()"
   ]
  },
  {
   "cell_type": "code",
   "execution_count": null,
   "metadata": {},
   "outputs": [],
   "source": []
  },
  {
   "cell_type": "code",
   "execution_count": 456,
   "metadata": {},
   "outputs": [
    {
     "data": {
      "text/plain": [
       "[\"Client's age in days at the time of application\"]"
      ]
     },
     "execution_count": 456,
     "metadata": {},
     "output_type": "execute_result"
    }
   ],
   "source": [
    "get_col_descr('days_birth')"
   ]
  },
  {
   "cell_type": "code",
   "execution_count": 457,
   "metadata": {},
   "outputs": [
    {
     "data": {
      "text/plain": [
       "<matplotlib.axes._subplots.AxesSubplot at 0x1a24b91668>"
      ]
     },
     "execution_count": 457,
     "metadata": {},
     "output_type": "execute_result"
    },
    {
     "data": {
      "image/png": "[encoded data removed]",
      "text/plain": [
       "<Figure size 576x396 with 1 Axes>"
      ]
     },
     "metadata": {},
     "output_type": "display_data"
    }
   ],
   "source": [
    "X.days_birth.hist()"
   ]
  },
  {
   "cell_type": "code",
   "execution_count": 458,
   "metadata": {},
   "outputs": [
    {
     "data": {
      "text/plain": [
       "count    356255.000000\n",
       "mean     -16041.248841\n",
       "std        4358.803980\n",
       "min      -25229.000000\n",
       "25%      -19676.000000\n",
       "50%      -15755.000000\n",
       "75%      -12425.000000\n",
       "max       -7338.000000\n",
       "Name: days_birth, dtype: float64"
      ]
     },
     "execution_count": 458,
     "metadata": {},
     "output_type": "execute_result"
    }
   ],
   "source": [
    "X.days_birth.describe()"
   ]
  },
  {
   "cell_type": "code",
   "execution_count": 459,
   "metadata": {},
   "outputs": [
    {
     "name": "stdout",
     "output_type": "stream",
     "text": [
      "oldest: 69\n",
      "youngest: 20\n"
     ]
    }
   ],
   "source": [
    "print('oldest: ' + str(int(X.days_birth.min() / -365)))\n",
    "print('youngest: ' + str(int(X.days_birth.max() / -365)))"
   ]
  },
  {
   "cell_type": "code",
   "execution_count": 460,
   "metadata": {},
   "outputs": [],
   "source": [
    "X['age'] = X['days_birth'].apply(lambda x: int(x / -365))"
   ]
  },
  {
   "cell_type": "code",
   "execution_count": 461,
   "metadata": {},
   "outputs": [],
   "source": [
    "X.drop('days_birth', axis=1, inplace=True)"
   ]
  },
  {
   "cell_type": "code",
   "execution_count": 462,
   "metadata": {},
   "outputs": [
    {
     "data": {
      "image/png": "[encoded data removed]",
      "text/plain": [
       "<Figure size 576x396 with 1 Axes>"
      ]
     },
     "metadata": {},
     "output_type": "display_data"
    }
   ],
   "source": [
    "plt1 = X[(X.dataset == 'train') & (X.target == 1)].age\n",
    "plt0 = X[(X.dataset == 'train') & (X.target == 0)].age\n",
    "hist_print(plt1, plt0)"
   ]
  },
  {
   "cell_type": "code",
   "execution_count": null,
   "metadata": {},
   "outputs": [],
   "source": []
  },
  {
   "cell_type": "code",
   "execution_count": 463,
   "metadata": {},
   "outputs": [
    {
     "data": {
      "text/plain": [
       "['How many days before the application the person started current employment']"
      ]
     },
     "execution_count": 463,
     "metadata": {},
     "output_type": "execute_result"
    }
   ],
   "source": [
    "get_col_descr('days_employed')"
   ]
  },
  {
   "cell_type": "code",
   "execution_count": 464,
   "metadata": {},
   "outputs": [
    {
     "data": {
      "text/plain": [
       "count    356255.000000\n",
       "mean      64317.231413\n",
       "std      141705.532576\n",
       "min      -17912.000000\n",
       "25%       -2781.000000\n",
       "50%       -1224.000000\n",
       "75%        -290.000000\n",
       "max      365243.000000\n",
       "Name: days_employed, dtype: float64"
      ]
     },
     "execution_count": 464,
     "metadata": {},
     "output_type": "execute_result"
    }
   ],
   "source": [
    "X.days_employed.describe()"
   ]
  },
  {
   "cell_type": "code",
   "execution_count": 465,
   "metadata": {},
   "outputs": [
    {
     "name": "stdout",
     "output_type": "stream",
     "text": [
      "oldest: 49\n",
      "youngest: -1000\n"
     ]
    }
   ],
   "source": [
    "print('oldest: ' + str(int(X.days_employed.min() / -365)))\n",
    "print('youngest: ' + str(int(X.days_employed.max() / -365)))"
   ]
  },
  {
   "cell_type": "code",
   "execution_count": 466,
   "metadata": {},
   "outputs": [
    {
     "data": {
      "text/plain": [
       "<matplotlib.axes._subplots.AxesSubplot at 0x1a1fa95978>"
      ]
     },
     "execution_count": 466,
     "metadata": {},
     "output_type": "execute_result"
    },
    {
     "data": {
      "image/png": "[encoded data removed]",
      "text/plain": [
       "<Figure size 576x396 with 1 Axes>"
      ]
     },
     "metadata": {},
     "output_type": "display_data"
    }
   ],
   "source": [
    "X.days_employed.hist()"
   ]
  },
  {
   "cell_type": "code",
   "execution_count": 467,
   "metadata": {},
   "outputs": [],
   "source": [
    "X['employed'] = X['days_employed'].apply(lambda x: int(x / -365))\n",
    "X.drop('days_employed', axis=1, inplace=True)"
   ]
  },
  {
   "cell_type": "code",
   "execution_count": 468,
   "metadata": {},
   "outputs": [],
   "source": [
    "X = X[X['employed'] != -1000]"
   ]
  },
  {
   "cell_type": "code",
   "execution_count": 469,
   "metadata": {},
   "outputs": [
    {
     "data": {
      "image/png": "[encoded data removed]",
      "text/plain": [
       "<Figure size 576x396 with 1 Axes>"
      ]
     },
     "metadata": {},
     "output_type": "display_data"
    }
   ],
   "source": [
    "plt0 = X[(X.dataset == 'train') & (X.employed >= 0) & (X.target == 0)].employed\n",
    "plt1 = X[(X.dataset == 'train') & (X.employed >= 0) & (X.target == 1)].employed\n",
    "hist_print(plt1, plt0)"
   ]
  },
  {
   "cell_type": "code",
   "execution_count": 470,
   "metadata": {},
   "outputs": [
    {
     "data": {
      "text/plain": [
       "['How many days before the application did client change his registration']"
      ]
     },
     "execution_count": 470,
     "metadata": {},
     "output_type": "execute_result"
    }
   ],
   "source": [
    "get_col_descr('days_registration')"
   ]
  },
  {
   "cell_type": "code",
   "execution_count": 471,
   "metadata": {},
   "outputs": [
    {
     "data": {
      "text/plain": [
       "count    291607.000000\n",
       "mean      -4631.177527\n",
       "std        3253.258995\n",
       "min      -22928.000000\n",
       "25%       -6947.000000\n",
       "50%       -4263.000000\n",
       "75%       -1830.000000\n",
       "max           0.000000\n",
       "Name: days_registration, dtype: float64"
      ]
     },
     "execution_count": 471,
     "metadata": {},
     "output_type": "execute_result"
    }
   ],
   "source": [
    "X.days_registration.describe()"
   ]
  },
  {
   "cell_type": "code",
   "execution_count": 472,
   "metadata": {},
   "outputs": [
    {
     "name": "stdout",
     "output_type": "stream",
     "text": [
      "longest: 62\n",
      "shortest: 0\n"
     ]
    }
   ],
   "source": [
    "print('longest: ' + str(int(X.days_registration.min() / -365)))\n",
    "print('shortest: ' + str(int(X.days_registration.max() / -365)))"
   ]
  },
  {
   "cell_type": "code",
   "execution_count": 473,
   "metadata": {},
   "outputs": [
    {
     "data": {
      "text/plain": [
       "<matplotlib.axes._subplots.AxesSubplot at 0x1a2090bdd8>"
      ]
     },
     "execution_count": 473,
     "metadata": {},
     "output_type": "execute_result"
    },
    {
     "data": {
      "image/png": "[encoded data removed]",
      "text/plain": [
       "<Figure size 576x396 with 1 Axes>"
      ]
     },
     "metadata": {},
     "output_type": "display_data"
    }
   ],
   "source": [
    "X.days_registration.hist()"
   ]
  },
  {
   "cell_type": "code",
   "execution_count": 474,
   "metadata": {},
   "outputs": [],
   "source": [
    "X['reg_changed'] = X['days_registration'].apply(lambda x: int(x / -365))\n",
    "X.drop('days_registration', axis=1, inplace=True)"
   ]
  },
  {
   "cell_type": "code",
   "execution_count": 475,
   "metadata": {},
   "outputs": [
    {
     "data": {
      "image/png": "[encoded data removed]",
      "text/plain": [
       "<Figure size 576x396 with 1 Axes>"
      ]
     },
     "metadata": {},
     "output_type": "display_data"
    }
   ],
   "source": [
    "plt0 = X[(X.dataset == 'train') & (X.target == 0)].reg_changed\n",
    "plt1 = X[(X.dataset == 'train') & (X.target == 1)].reg_changed\n",
    "hist_print(plt1, plt0)"
   ]
  },
  {
   "cell_type": "code",
   "execution_count": 476,
   "metadata": {},
   "outputs": [
    {
     "data": {
      "text/plain": [
       "['How many days before the application did client change the identity document with which he applied for the loan']"
      ]
     },
     "execution_count": 476,
     "metadata": {},
     "output_type": "execute_result"
    }
   ],
   "source": [
    "get_col_descr('days_id_publish')"
   ]
  },
  {
   "cell_type": "code",
   "execution_count": 477,
   "metadata": {},
   "outputs": [
    {
     "data": {
      "text/plain": [
       "count    291607.000000\n",
       "mean      -2805.639799\n",
       "std        1523.111046\n",
       "min       -7197.000000\n",
       "25%       -4194.000000\n",
       "50%       -2882.000000\n",
       "75%       -1482.000000\n",
       "max           0.000000\n",
       "Name: days_id_publish, dtype: float64"
      ]
     },
     "execution_count": 477,
     "metadata": {},
     "output_type": "execute_result"
    }
   ],
   "source": [
    "X.days_id_publish.describe()"
   ]
  },
  {
   "cell_type": "code",
   "execution_count": 478,
   "metadata": {},
   "outputs": [
    {
     "name": "stdout",
     "output_type": "stream",
     "text": [
      "longest: 19\n",
      "shortest: 0\n"
     ]
    }
   ],
   "source": [
    "print('longest: ' + str(int(X.days_id_publish.min() / -365)))\n",
    "print('shortest: ' + str(int(X.days_id_publish.max() / -365)))"
   ]
  },
  {
   "cell_type": "code",
   "execution_count": 479,
   "metadata": {},
   "outputs": [
    {
     "data": {
      "text/plain": [
       "<matplotlib.axes._subplots.AxesSubplot at 0x1a20bbecc0>"
      ]
     },
     "execution_count": 479,
     "metadata": {},
     "output_type": "execute_result"
    },
    {
     "data": {
      "image/png": "[encoded data removed]",
      "text/plain": [
       "<Figure size 576x396 with 1 Axes>"
      ]
     },
     "metadata": {},
     "output_type": "display_data"
    }
   ],
   "source": [
    "X.days_id_publish.hist()"
   ]
  },
  {
   "cell_type": "code",
   "execution_count": 480,
   "metadata": {},
   "outputs": [],
   "source": [
    "X['id_changed'] = X['days_id_publish'].apply(lambda x: int(x / -365))\n",
    "X.drop('days_id_publish', axis=1, inplace=True)"
   ]
  },
  {
   "cell_type": "code",
   "execution_count": 481,
   "metadata": {},
   "outputs": [
    {
     "data": {
      "image/png": "[encoded data removed]",
      "text/plain": [
       "<Figure size 576x396 with 1 Axes>"
      ]
     },
     "metadata": {},
     "output_type": "display_data"
    }
   ],
   "source": [
    "plt0 = X[(X.dataset == 'train') & (X.target == 0)].id_changed\n",
    "plt1 = X[(X.dataset == 'train') & (X.target == 1)].id_changed\n",
    "hist_print(plt1, plt0)"
   ]
  },
  {
   "cell_type": "code",
   "execution_count": 482,
   "metadata": {},
   "outputs": [
    {
     "data": {
      "text/plain": [
       "['Normalized population of region where client lives (higher number means the client lives in more populated region)']"
      ]
     },
     "execution_count": 482,
     "metadata": {},
     "output_type": "execute_result"
    }
   ],
   "source": [
    "get_col_descr('region_population_relative')"
   ]
  },
  {
   "cell_type": "code",
   "execution_count": 483,
   "metadata": {},
   "outputs": [
    {
     "data": {
      "text/plain": [
       "<matplotlib.axes._subplots.AxesSubplot at 0x1a22adb9b0>"
      ]
     },
     "execution_count": 483,
     "metadata": {},
     "output_type": "execute_result"
    },
    {
     "data": {
      "image/png": "[encoded data removed]",
      "text/plain": [
       "<Figure size 576x396 with 1 Axes>"
      ]
     },
     "metadata": {},
     "output_type": "display_data"
    }
   ],
   "source": [
    "X.region_population_relative.hist()"
   ]
  },
  {
   "cell_type": "code",
   "execution_count": 484,
   "metadata": {},
   "outputs": [
    {
     "data": {
      "text/plain": [
       "count    291607.000000\n",
       "mean          0.020939\n",
       "std           0.013948\n",
       "min           0.000253\n",
       "25%           0.010006\n",
       "50%           0.018850\n",
       "75%           0.028663\n",
       "max           0.072508\n",
       "Name: region_population_relative, dtype: float64"
      ]
     },
     "execution_count": 484,
     "metadata": {},
     "output_type": "execute_result"
    }
   ],
   "source": [
    "X.region_population_relative.describe()"
   ]
  },
  {
   "cell_type": "code",
   "execution_count": 485,
   "metadata": {},
   "outputs": [
    {
     "data": {
      "text/plain": [
       "<matplotlib.axes._subplots.AxesSubplot at 0x1a20e322e8>"
      ]
     },
     "execution_count": 485,
     "metadata": {},
     "output_type": "execute_result"
    },
    {
     "data": {
      "image/png": "[encoded data removed]",
      "text/plain": [
       "<Figure size 576x396 with 1 Axes>"
      ]
     },
     "metadata": {},
     "output_type": "display_data"
    }
   ],
   "source": [
    "train.plot(kind='scatter', x='region_population_relative', y='target')"
   ]
  },
  {
   "cell_type": "code",
   "execution_count": 486,
   "metadata": {},
   "outputs": [
    {
     "data": {
      "text/plain": [
       "['Approximately at what hour did the client apply for the loan']"
      ]
     },
     "execution_count": 486,
     "metadata": {},
     "output_type": "execute_result"
    }
   ],
   "source": [
    "get_col_descr('hour_appr_process_start')"
   ]
  },
  {
   "cell_type": "code",
   "execution_count": 487,
   "metadata": {},
   "outputs": [
    {
     "data": {
      "text/plain": [
       "count    291607.000000\n",
       "mean         12.194841\n",
       "std           3.300591\n",
       "min           0.000000\n",
       "25%          10.000000\n",
       "50%          12.000000\n",
       "75%          15.000000\n",
       "max          23.000000\n",
       "Name: hour_appr_process_start, dtype: float64"
      ]
     },
     "execution_count": 487,
     "metadata": {},
     "output_type": "execute_result"
    }
   ],
   "source": [
    "X.hour_appr_process_start.describe()"
   ]
  },
  {
   "cell_type": "code",
   "execution_count": 488,
   "metadata": {},
   "outputs": [
    {
     "data": {
      "text/plain": [
       "<matplotlib.axes._subplots.AxesSubplot at 0x1a230c53c8>"
      ]
     },
     "execution_count": 488,
     "metadata": {},
     "output_type": "execute_result"
    },
    {
     "data": {
      "image/png": "[encoded data removed]",
      "text/plain": [
       "<Figure size 576x396 with 1 Axes>"
      ]
     },
     "metadata": {},
     "output_type": "display_data"
    }
   ],
   "source": [
    "X.hour_appr_process_start.hist()"
   ]
  },
  {
   "cell_type": "code",
   "execution_count": 489,
   "metadata": {},
   "outputs": [
    {
     "data": {
      "text/plain": [
       "<matplotlib.axes._subplots.AxesSubplot at 0x1a24bd57b8>"
      ]
     },
     "execution_count": 489,
     "metadata": {},
     "output_type": "execute_result"
    },
    {
     "data": {
      "image/png": "[encoded data removed]",
      "text/plain": [
       "<Figure size 576x396 with 1 Axes>"
      ]
     },
     "metadata": {},
     "output_type": "display_data"
    }
   ],
   "source": [
    "X[(X.dataset == 'train') & (X.target == 1)].hour_appr_process_start.hist()"
   ]
  },
  {
   "cell_type": "code",
   "execution_count": 490,
   "metadata": {},
   "outputs": [
    {
     "data": {
      "text/plain": [
       "<matplotlib.axes._subplots.AxesSubplot at 0x1a20eb8128>"
      ]
     },
     "execution_count": 490,
     "metadata": {},
     "output_type": "execute_result"
    },
    {
     "data": {
      "image/png": "[encoded data removed]",
      "text/plain": [
       "<Figure size 576x396 with 1 Axes>"
      ]
     },
     "metadata": {},
     "output_type": "display_data"
    }
   ],
   "source": [
    "X[(X.dataset == 'train') & (X.target == 0)].hour_appr_process_start.hist()"
   ]
  },
  {
   "cell_type": "code",
   "execution_count": 491,
   "metadata": {},
   "outputs": [],
   "source": [
    "norm_df = column_description[column_description.special == special_col[4]]"
   ]
  },
  {
   "cell_type": "code",
   "execution_count": 1169,
   "metadata": {},
   "outputs": [
    {
     "data": {
      "text/plain": [
       "array(['Laborers', 'Core staff', 'Accountants', 'Managers', 'Drivers',\n",
       "       'Sales staff', 'Cleaning staff', 'Cooking staff', 'missing',\n",
       "       'Private service staff', 'Medicine staff', 'Security staff',\n",
       "       'High skill tech staff', 'Waiters/barmen staff',\n",
       "       'Low-skill Laborers', 'Realty agents', 'Secretaries', 'IT staff',\n",
       "       'HR staff'], dtype=object)"
      ]
     },
     "execution_count": 1169,
     "metadata": {},
     "output_type": "execute_result"
    }
   ],
   "source": [
    "X.occupation_type.unique()"
   ]
  },
  {
   "cell_type": "code",
   "execution_count": 493,
   "metadata": {},
   "outputs": [
    {
     "data": {
      "text/plain": [
       "0.08072881945686496"
      ]
     },
     "execution_count": 493,
     "metadata": {},
     "output_type": "execute_result"
    }
   ],
   "source": [
    "sum(train.target) / len(train)"
   ]
  },
  {
   "cell_type": "code",
   "execution_count": 494,
   "metadata": {},
   "outputs": [
    {
     "data": {
      "text/plain": [
       "0.08519535350505832"
      ]
     },
     "execution_count": 494,
     "metadata": {},
     "output_type": "execute_result"
    }
   ],
   "source": [
    "#sum(train[isNaN(train.ext_source_1) == True].target)\n",
    "len(train[isNaN(train.ext_source_1) == True]) / len(train)\n",
    "sum(train[isNaN(train.ext_source_1) == True].target) / len(train[isNaN(train.ext_source_1) == True])"
   ]
  },
  {
   "cell_type": "code",
   "execution_count": 495,
   "metadata": {},
   "outputs": [
    {
     "data": {
      "text/plain": [
       "<matplotlib.axes._subplots.AxesSubplot at 0x1a239e7be0>"
      ]
     },
     "execution_count": 495,
     "metadata": {},
     "output_type": "execute_result"
    },
    {
     "data": {
      "image/png": "[encoded data removed]",
      "text/plain": [
       "<Figure size 576x396 with 1 Axes>"
      ]
     },
     "metadata": {},
     "output_type": "display_data"
    }
   ],
   "source": [
    "X.ext_source_1.hist()"
   ]
  },
  {
   "cell_type": "code",
   "execution_count": 496,
   "metadata": {},
   "outputs": [
    {
     "name": "stderr",
     "output_type": "stream",
     "text": [
      "/Users/johannespastorek/opt/anaconda3/envs/nf/lib/python3.6/site-packages/numpy/lib/histograms.py:834: RuntimeWarning: invalid value encountered in greater_equal\n",
      "  keep = (tmp_a >= first_edge)\n",
      "/Users/johannespastorek/opt/anaconda3/envs/nf/lib/python3.6/site-packages/numpy/lib/histograms.py:835: RuntimeWarning: invalid value encountered in less_equal\n",
      "  keep &= (tmp_a <= last_edge)\n"
     ]
    },
    {
     "data": {
      "image/png": "[encoded data removed]",
      "text/plain": [
       "<Figure size 576x396 with 1 Axes>"
      ]
     },
     "metadata": {},
     "output_type": "display_data"
    }
   ],
   "source": [
    "plt0 = X[(X.dataset == 'train') & (X.target == 0)].ext_source_1\n",
    "plt1 = X[(X.dataset == 'train') & (X.target == 1)].ext_source_1\n",
    "hist_print(plt1, plt0)"
   ]
  },
  {
   "cell_type": "code",
   "execution_count": 805,
   "metadata": {},
   "outputs": [
    {
     "name": "stderr",
     "output_type": "stream",
     "text": [
      "/Users/johannespastorek/opt/anaconda3/envs/nf/lib/python3.6/site-packages/ipykernel_launcher.py:2: SettingWithCopyWarning: \n",
      "A value is trying to be set on a copy of a slice from a DataFrame.\n",
      "Try using .loc[row_indexer,col_indexer] = value instead\n",
      "\n",
      "See the caveats in the documentation: http://pandas.pydata.org/pandas-docs/stable/indexing.html#indexing-view-versus-copy\n",
      "  \n",
      "/Users/johannespastorek/opt/anaconda3/envs/nf/lib/python3.6/site-packages/ipykernel_launcher.py:3: SettingWithCopyWarning: \n",
      "A value is trying to be set on a copy of a slice from a DataFrame.\n",
      "Try using .loc[row_indexer,col_indexer] = value instead\n",
      "\n",
      "See the caveats in the documentation: http://pandas.pydata.org/pandas-docs/stable/indexing.html#indexing-view-versus-copy\n",
      "  This is separate from the ipykernel package so we can avoid doing imports until\n"
     ]
    }
   ],
   "source": [
    "X1 = X[['target', 'ext_source_1', 'dataset']]\n",
    "X1['isnull'] =  pd.isnull(X['ext_source_1']).tolist()\n",
    "X1['isnull'] = X1['isnull'].astype(int)"
   ]
  },
  {
   "cell_type": "code",
   "execution_count": 807,
   "metadata": {},
   "outputs": [
    {
     "data": {
      "image/png": "[encoded data removed]",
      "text/plain": [
       "<Figure size 576x396 with 1 Axes>"
      ]
     },
     "metadata": {},
     "output_type": "display_data"
    }
   ],
   "source": [
    "plt0 = X1[(X1.dataset == 'train') & (X.target == 0)]['isnull']\n",
    "plt1 = X1[(X1.dataset == 'train') & (X.target == 1)]['isnull']\n",
    "hist_print(plt1, plt0)"
   ]
  },
  {
   "cell_type": "code",
   "execution_count": 497,
   "metadata": {},
   "outputs": [
    {
     "data": {
      "text/plain": [
       "['Normalized score from external data source']"
      ]
     },
     "execution_count": 497,
     "metadata": {},
     "output_type": "execute_result"
    }
   ],
   "source": [
    "get_col_descr('ext_source_2')"
   ]
  },
  {
   "cell_type": "code",
   "execution_count": 498,
   "metadata": {},
   "outputs": [
    {
     "data": {
      "image/png": "[encoded data removed]",
      "text/plain": [
       "<Figure size 576x396 with 1 Axes>"
      ]
     },
     "metadata": {},
     "output_type": "display_data"
    }
   ],
   "source": [
    "plt0 = X[(X.dataset == 'train') & (X.target == 0)].ext_source_2\n",
    "plt1 = X[(X.dataset == 'train') & (X.target == 1)].ext_source_2\n",
    "hist_print(plt1, plt0)"
   ]
  },
  {
   "cell_type": "code",
   "execution_count": 499,
   "metadata": {},
   "outputs": [
    {
     "data": {
      "text/plain": [
       "['Normalized score from external data source']"
      ]
     },
     "execution_count": 499,
     "metadata": {},
     "output_type": "execute_result"
    }
   ],
   "source": [
    "get_col_descr('ext_source_3')"
   ]
  },
  {
   "cell_type": "code",
   "execution_count": 500,
   "metadata": {},
   "outputs": [
    {
     "data": {
      "image/png": "[encoded data removed]",
      "text/plain": [
       "<Figure size 576x396 with 1 Axes>"
      ]
     },
     "metadata": {},
     "output_type": "display_data"
    }
   ],
   "source": [
    "plt0 = X[(X.dataset == 'train') & (X.target == 0)].ext_source_3\n",
    "plt1 = X[(X.dataset == 'train') & (X.target == 1)].ext_source_3\n",
    "hist_print(plt1, plt0)"
   ]
  },
  {
   "cell_type": "code",
   "execution_count": 501,
   "metadata": {},
   "outputs": [
    {
     "data": {
      "text/plain": [
       "['Normalized information about building where the client lives, What is average (_AVG suffix), modus (_MODE suffix), median (_MEDI suffix) apartment size, common area, living area, age of building, number of elevators, number of entrances, state of the building, number of floor']"
      ]
     },
     "execution_count": 501,
     "metadata": {},
     "output_type": "execute_result"
    }
   ],
   "source": [
    "get_col_descr('apartments_avg')"
   ]
  },
  {
   "cell_type": "code",
   "execution_count": 502,
   "metadata": {},
   "outputs": [
    {
     "data": {
      "image/png": "[encoded data removed]",
      "text/plain": [
       "<Figure size 576x396 with 1 Axes>"
      ]
     },
     "metadata": {},
     "output_type": "display_data"
    }
   ],
   "source": [
    "plt0 = X[(X.dataset == 'train') & (X.target == 0)].apartments_avg\n",
    "plt1 = X[(X.dataset == 'train') & (X.target == 1)].apartments_avg\n",
    "hist_print(plt1, plt0)"
   ]
  },
  {
   "cell_type": "code",
   "execution_count": 503,
   "metadata": {},
   "outputs": [
    {
     "data": {
      "text/plain": [
       "['Normalized information about building where the client lives, What is average (_AVG suffix), modus (_MODE suffix), median (_MEDI suffix) apartment size, common area, living area, age of building, number of elevators, number of entrances, state of the building, number of floor']"
      ]
     },
     "execution_count": 503,
     "metadata": {},
     "output_type": "execute_result"
    }
   ],
   "source": [
    "get_col_descr('livingapartments_avg')"
   ]
  },
  {
   "cell_type": "code",
   "execution_count": 504,
   "metadata": {},
   "outputs": [
    {
     "data": {
      "image/png": "[encoded data removed]",
      "text/plain": [
       "<Figure size 576x396 with 1 Axes>"
      ]
     },
     "metadata": {},
     "output_type": "display_data"
    }
   ],
   "source": [
    "plt0 = X[(X.dataset == 'train') & (X.target == 0)].livingapartments_avg\n",
    "plt1 = X[(X.dataset == 'train') & (X.target == 1)].livingapartments_avg\n",
    "hist_print(plt1, plt0)"
   ]
  },
  {
   "cell_type": "code",
   "execution_count": 505,
   "metadata": {},
   "outputs": [
    {
     "data": {
      "text/plain": [
       "['code_gender',\n",
       " 'dataset',\n",
       " 'emergencystate_mode',\n",
       " 'flag_own_car',\n",
       " 'flag_own_realty',\n",
       " 'fondkapremont_mode',\n",
       " 'housetype_mode',\n",
       " 'name_contract_type',\n",
       " 'name_education_type',\n",
       " 'name_family_status',\n",
       " 'name_housing_type',\n",
       " 'name_income_type',\n",
       " 'name_type_suite',\n",
       " 'occupation_type',\n",
       " 'organization_type',\n",
       " 'wallsmaterial_mode',\n",
       " 'weekday_appr_process_start']"
      ]
     },
     "execution_count": 505,
     "metadata": {},
     "output_type": "execute_result"
    }
   ],
   "source": [
    "num_features = list(X.columns[X.dtypes!=object])\n",
    "cat_features = list(X.columns[X.dtypes==object])\n",
    "cat_features"
   ]
  },
  {
   "cell_type": "code",
   "execution_count": 506,
   "metadata": {},
   "outputs": [],
   "source": [
    "X['code_gender'] = X['code_gender'].apply(lambda x: float('NaN') if x == 'XNA' else x)\n",
    "X['code_gender'] = X.code_gender.map({'F': 0, 'M': 1, })"
   ]
  },
  {
   "cell_type": "code",
   "execution_count": 507,
   "metadata": {},
   "outputs": [
    {
     "data": {
      "text/plain": [
       "<matplotlib.axes._subplots.AxesSubplot at 0x1a26333b00>"
      ]
     },
     "execution_count": 507,
     "metadata": {},
     "output_type": "execute_result"
    },
    {
     "data": {
      "image/png": "[encoded data removed]",
      "text/plain": [
       "<Figure size 576x396 with 1 Axes>"
      ]
     },
     "metadata": {},
     "output_type": "display_data"
    }
   ],
   "source": [
    "X.code_gender.hist()"
   ]
  },
  {
   "cell_type": "code",
   "execution_count": 1178,
   "metadata": {},
   "outputs": [
    {
     "data": {
      "image/png": "[encoded data removed]",
      "text/plain": [
       "<Figure size 576x396 with 1 Axes>"
      ]
     },
     "metadata": {},
     "output_type": "display_data"
    }
   ],
   "source": [
    "plt0 = X[(X.dataset == 'train') & (X.target == 0)].emergencystate_mode\n",
    "plt1 = X[(X.dataset == 'train') & (X.target == 1)].emergencystate_mode\n",
    "hist_print(plt1, plt0)"
   ]
  },
  {
   "cell_type": "code",
   "execution_count": 1171,
   "metadata": {},
   "outputs": [
    {
     "data": {
      "text/plain": [
       "['Credit amount of the loan']"
      ]
     },
     "execution_count": 1171,
     "metadata": {},
     "output_type": "execute_result"
    }
   ],
   "source": [
    "get_col_descr('amt_credit')"
   ]
  },
  {
   "cell_type": "code",
   "execution_count": null,
   "metadata": {},
   "outputs": [],
   "source": [
    "X.emergencystate_mode.fillna('missing', inplace=True)"
   ]
  },
  {
   "cell_type": "code",
   "execution_count": 525,
   "metadata": {},
   "outputs": [
    {
     "data": {
      "text/plain": [
       "<matplotlib.axes._subplots.AxesSubplot at 0x1a22c8db70>"
      ]
     },
     "execution_count": 525,
     "metadata": {},
     "output_type": "execute_result"
    },
    {
     "data": {
      "image/png": "[encoded data removed]",
      "text/plain": [
       "<Figure size 576x396 with 1 Axes>"
      ]
     },
     "metadata": {},
     "output_type": "display_data"
    }
   ],
   "source": [
    "X.emergencystate_mode.hist()"
   ]
  },
  {
   "cell_type": "code",
   "execution_count": 1177,
   "metadata": {},
   "outputs": [
    {
     "data": {
      "image/png": "[encoded data removed]",
      "text/plain": [
       "<Figure size 576x396 with 1 Axes>"
      ]
     },
     "metadata": {},
     "output_type": "display_data"
    }
   ],
   "source": [
    "plt0 = X[(X.dataset == 'train') & (X.target == 0)].sk_id_curr \n",
    "plt1 = X[(X.dataset == 'train') & (X.target == 1)].sk_id_curr \n",
    "hist_print(plt1, plt0)"
   ]
  },
  {
   "cell_type": "code",
   "execution_count": 529,
   "metadata": {},
   "outputs": [
    {
     "data": {
      "text/plain": [
       "['Flag if the client owns a car']"
      ]
     },
     "execution_count": 529,
     "metadata": {},
     "output_type": "execute_result"
    }
   ],
   "source": [
    "get_col_descr('flag_own_car')"
   ]
  },
  {
   "cell_type": "code",
   "execution_count": 565,
   "metadata": {},
   "outputs": [
    {
     "name": "stdout",
     "output_type": "stream",
     "text": [
      "['M' 'F' 'XNA']\n",
      "['train']\n",
      "['No' nan 'Yes']\n",
      "['N' 'Y']\n",
      "['Y' 'N']\n",
      "['reg oper account' nan 'org spec account' 'reg oper spec account'\n",
      " 'not specified']\n",
      "['block of flats' nan 'terraced house' 'specific housing']\n",
      "['Cash loans' 'Revolving loans']\n",
      "['Secondary / secondary special' 'Higher education' 'Incomplete higher'\n",
      " 'Lower secondary' 'Academic degree']\n",
      "['Single / not married' 'Married' 'Civil marriage' 'Widow' 'Separated'\n",
      " 'Unknown']\n",
      "['House / apartment' 'Rented apartment' 'With parents'\n",
      " 'Municipal apartment' 'Office apartment' 'Co-op apartment']\n",
      "['Working' 'State servant' 'Commercial associate' 'Pensioner' 'Unemployed'\n",
      " 'Student' 'Businessman' 'Maternity leave']\n",
      "['Unaccompanied' 'Family' 'Spouse, partner' 'Children' 'Other_A' nan\n",
      " 'Other_B' 'Group of people']\n",
      "['Laborers' 'Core staff' 'Accountants' 'Managers' nan 'Drivers'\n",
      " 'Sales staff' 'Cleaning staff' 'Cooking staff' 'Private service staff'\n",
      " 'Medicine staff' 'Security staff' 'High skill tech staff'\n",
      " 'Waiters/barmen staff' 'Low-skill Laborers' 'Realty agents' 'Secretaries'\n",
      " 'IT staff' 'HR staff']\n",
      "['Business Entity Type 3' 'School' 'Government' 'Religion' 'Other' 'XNA'\n",
      " 'Electricity' 'Medicine' 'Business Entity Type 2' 'Self-employed'\n",
      " 'Transport: type 2' 'Construction' 'Housing' 'Kindergarten'\n",
      " 'Trade: type 7' 'Industry: type 11' 'Military' 'Services'\n",
      " 'Security Ministries' 'Transport: type 4' 'Industry: type 1' 'Emergency'\n",
      " 'Security' 'Trade: type 2' 'University' 'Transport: type 3' 'Police'\n",
      " 'Business Entity Type 1' 'Postal' 'Industry: type 4' 'Agriculture'\n",
      " 'Restaurant' 'Culture' 'Hotel' 'Industry: type 7' 'Trade: type 3'\n",
      " 'Industry: type 3' 'Bank' 'Industry: type 9' 'Insurance' 'Trade: type 6'\n",
      " 'Industry: type 2' 'Transport: type 1' 'Industry: type 12' 'Mobile'\n",
      " 'Trade: type 1' 'Industry: type 5' 'Industry: type 10' 'Legal Services'\n",
      " 'Advertising' 'Trade: type 5' 'Cleaning' 'Industry: type 13'\n",
      " 'Trade: type 4' 'Telecom' 'Industry: type 8' 'Realtor' 'Industry: type 6']\n",
      "['Stone, brick' 'Block' nan 'Panel' 'Mixed' 'Wooden' 'Others' 'Monolithic']\n",
      "['WEDNESDAY' 'MONDAY' 'THURSDAY' 'SUNDAY' 'SATURDAY' 'FRIDAY' 'TUESDAY']\n"
     ]
    }
   ],
   "source": [
    "for i in cat_features:\n",
    "    print(train[i].unique())"
   ]
  },
  {
   "cell_type": "code",
   "execution_count": 1103,
   "metadata": {},
   "outputs": [],
   "source": [
    "num_features = list(X.columns[X.dtypes!=object])\n",
    "cat_features = list(X.columns[X.dtypes==object])\n",
    "X[cat_features] = X[cat_features].fillna('missing')"
   ]
  },
  {
   "cell_type": "code",
   "execution_count": 1127,
   "metadata": {},
   "outputs": [],
   "source": [
    "X['fond_nan'] = X['fondkapremont_mode'].apply(lambda x: 0 if x == 'missing' else 1)\n",
    "X['housetype_nan'] = X['housetype_mode'].apply(lambda x: 0 if x == 'missing' else 1)\n",
    "#X['secondary_educ'] = X['name_education_type'].apply(lambda x: 1 if x == 'Secondary / secondary special' else 0)\n",
    "X['higher_educ'] = X['name_education_type'].apply(lambda x: 1 if (x == 'Higher education') | (x == 'Academic degree')  else 0)"
   ]
  },
  {
   "cell_type": "code",
   "execution_count": 1133,
   "metadata": {},
   "outputs": [],
   "source": [
    "X['no_own_prop'] = X['name_housing_type'].apply(lambda x: \n",
    "                                                1 if (x == 'With parents') | (x == 'Rented apartment')  else 0\n",
    "                                               )"
   ]
  },
  {
   "cell_type": "code",
   "execution_count": 1141,
   "metadata": {},
   "outputs": [],
   "source": [
    "X['blue_collar'] = X['name_income_type'].apply(lambda x: 1 if x == 'Working' else 0)\n"
   ]
  },
  {
   "cell_type": "code",
   "execution_count": 1145,
   "metadata": {},
   "outputs": [
    {
     "data": {
      "text/plain": [
       "array(['Laborers', 'Core staff', 'Accountants', 'Managers', 'Drivers',\n",
       "       'Sales staff', 'Cleaning staff', 'Cooking staff', 'missing',\n",
       "       'Private service staff', 'Medicine staff', 'Security staff',\n",
       "       'High skill tech staff', 'Waiters/barmen staff',\n",
       "       'Low-skill Laborers', 'Realty agents', 'Secretaries', 'IT staff',\n",
       "       'HR staff'], dtype=object)"
      ]
     },
     "execution_count": 1145,
     "metadata": {},
     "output_type": "execute_result"
    }
   ],
   "source": [
    "X['occupation_type'].unique()"
   ]
  },
  {
   "cell_type": "code",
   "execution_count": 1158,
   "metadata": {},
   "outputs": [],
   "source": [
    "X['blue_collar2'] = X['occupation_type'].apply(lambda x: \n",
    "                                               1 if (x == 'Laborers') |\n",
    "                                                    (x == 'Cooking staff') |\n",
    "                                                    (x == 'Sales staff') |\n",
    "                                                    (x == 'Drivers') |\n",
    "                                                    (x == 'Security staff') |\n",
    "                                                    (x == 'Waiters/barmen staff') |\n",
    "                                                    (x == 'Low-skill Laborers') |\n",
    "                                                    (x == 'Secretaries') |\n",
    "                                                    (x == 'missing')\n",
    "                                               else 0\n",
    "                                              )"
   ]
  },
  {
   "cell_type": "code",
   "execution_count": 1162,
   "metadata": {},
   "outputs": [
    {
     "data": {
      "text/plain": [
       "array(['Business Entity Type 3', 'School', 'Government', 'Religion',\n",
       "       'Other', 'Electricity', 'Medicine', 'Business Entity Type 2',\n",
       "       'Self-employed', 'Transport: type 2', 'Construction', 'Housing',\n",
       "       'Kindergarten', 'Trade: type 7', 'Industry: type 11', 'Military',\n",
       "       'Services', 'Security Ministries', 'Transport: type 4',\n",
       "       'Industry: type 1', 'Emergency', 'Security', 'Trade: type 2',\n",
       "       'University', 'Transport: type 3', 'Police',\n",
       "       'Business Entity Type 1', 'Postal', 'Industry: type 4',\n",
       "       'Agriculture', 'Restaurant', 'Culture', 'Hotel',\n",
       "       'Industry: type 7', 'Trade: type 3', 'Industry: type 3', 'Bank',\n",
       "       'Industry: type 9', 'Insurance', 'Trade: type 6',\n",
       "       'Industry: type 2', 'Transport: type 1', 'Industry: type 12',\n",
       "       'Mobile', 'Trade: type 1', 'Industry: type 5', 'Industry: type 10',\n",
       "       'Legal Services', 'Advertising', 'Trade: type 5', 'Cleaning',\n",
       "       'Industry: type 13', 'Trade: type 4', 'Telecom',\n",
       "       'Industry: type 8', 'Realtor', 'Industry: type 6'], dtype=object)"
      ]
     },
     "execution_count": 1162,
     "metadata": {},
     "output_type": "execute_result"
    }
   ],
   "source": [
    "X['organization_type'].unique()"
   ]
  },
  {
   "cell_type": "code",
   "execution_count": 1167,
   "metadata": {},
   "outputs": [
    {
     "name": "stdout",
     "output_type": "stream",
     "text": [
      "['Normalized information about building where the client lives, What is average (_AVG suffix), modus (_MODE suffix), median (_MEDI suffix) apartment size, common area, living area, age of building, number of elevators, number of entrances, state of the building, number of floor']\n"
     ]
    },
    {
     "data": {
      "image/png": "[encoded data removed]",
      "text/plain": [
       "<Figure size 576x396 with 1 Axes>"
      ]
     },
     "metadata": {},
     "output_type": "display_data"
    }
   ],
   "source": [
    "i = 2\n",
    "print(get_col_descr(cat_features[i]))\n",
    "feature = cat_features[i]\n",
    "#feature = 'blue_collar2'\n",
    "X[feature].fillna('missing', inplace=True)\n",
    "#plt.figure(figsize=(20, 3))\n",
    "plt0 = X[(X.dataset == 'train') & (X.target == 0)][feature]\n",
    "plt1 = X[(X.dataset == 'train') & (X.target == 1)][feature]\n",
    "plt.title(str(cat_features[i]))\n",
    "hist_print(plt1, plt0)"
   ]
  },
  {
   "cell_type": "code",
   "execution_count": 861,
   "metadata": {},
   "outputs": [],
   "source": [
    "X['app_nan'] = X['apartments_medi'].apply(lambda x: 0 if isNaN(x) == True else 1)"
   ]
  },
  {
   "cell_type": "code",
   "execution_count": 929,
   "metadata": {},
   "outputs": [
    {
     "data": {
      "text/plain": [
       "array([1, 0])"
      ]
     },
     "execution_count": 929,
     "metadata": {},
     "output_type": "execute_result"
    }
   ],
   "source": [
    "X['base_nan'] = X['basementarea_medi'].apply(lambda x: 0 if isNaN(x) == True else 1)"
   ]
  },
  {
   "cell_type": "code",
   "execution_count": 1085,
   "metadata": {},
   "outputs": [],
   "source": [
    "X['elev_nan'] = X['elevators_medi'].apply(lambda x: 0 if isNaN(x) == True else 1)\n",
    "X['entr_nan'] = X['entrances_medi'].apply(lambda x: 0 if isNaN(x) == True else 1)\n",
    "X['floorsmax_nan'] = X['floorsmax_medi'].apply(lambda x: 0 if isNaN(x) == True else 1)\n",
    "X['floorsmin_nan'] = X['floorsmin_medi'].apply(lambda x: 0 if isNaN(x) == True else 1)\n",
    "X['landarea_nan'] = X['landarea_medi'].apply(lambda x: 0 if isNaN(x) == True else 1)\n",
    "X['living_nan'] = X['livingapartments_medi'].apply(lambda x: 0 if isNaN(x) == True else 1)\n",
    "X['area_nan'] = X['livingarea_medi'].apply(lambda x: 0 if isNaN(x) == True else 1)\n",
    "X['nonliving_nan'] = X['nonlivingapartments_medi'].apply(lambda x: 0 if isNaN(x) == True else 1)\n",
    "X['nonarea_nan'] = X['nonlivingarea_medi'].apply(lambda x: 0 if isNaN(x) == True else 1)\n",
    "X['years_nan'] = X['years_build_medi'].apply(lambda x: 0 if isNaN(x) == True else 1)\n",
    "\n",
    "X['complete'] = X['years_nan'] + X['nonarea_nan'] + X['nonliving_nan'] + X['area_nan'] + X['living_nan'] + \\\n",
    "                X['landarea_nan'] + X['floorsmin_nan'] + X['floorsmax_nan'] + X['entr_nan'] + X['elev_nan']"
   ]
  },
  {
   "cell_type": "code",
   "execution_count": 1087,
   "metadata": {},
   "outputs": [],
   "source": [
    "X['complete'] = X['complete'].apply(lambda x: 1 if x == 0 else 0)"
   ]
  },
  {
   "cell_type": "code",
   "execution_count": 877,
   "metadata": {},
   "outputs": [],
   "source": [
    "X['common_nan'] = X['commonarea_medi'].apply(lambda x: 0 if isNaN(x) == True else 1)"
   ]
  },
  {
   "cell_type": "code",
   "execution_count": 893,
   "metadata": {},
   "outputs": [],
   "source": [
    "X['age'] = X['days_birth'].apply(lambda x: int(x / -365))\n",
    "X['employed'] = X['days_employed'].apply(lambda x: int(x / -365))\n",
    "X = X[X['employed'] != -1000]"
   ]
  },
  {
   "cell_type": "code",
   "execution_count": 1037,
   "metadata": {},
   "outputs": [],
   "source": [
    "X['age_cat'] = pd.cut(X['age'], bins=[0,35,45,999], labels=['Young', 'Adult', 'Elder'])\n",
    "X['emp_cat'] = pd.cut(X['employed'], bins=[0,4,999], labels=[0, 1])\n"
   ]
  },
  {
   "cell_type": "code",
   "execution_count": 995,
   "metadata": {},
   "outputs": [],
   "source": [
    "#X['id_publish'] = X['days_id_publish'].apply(lambda x: int(x / -365))\n"
   ]
  },
  {
   "cell_type": "code",
   "execution_count": 951,
   "metadata": {},
   "outputs": [],
   "source": [
    "X['days_last_phone_change'] = X['days_last_phone_change'].fillna(9999)\n",
    "X['phones_change'] = X['days_last_phone_change'].apply(lambda x: int(x / -365))"
   ]
  },
  {
   "cell_type": "code",
   "execution_count": 956,
   "metadata": {},
   "outputs": [],
   "source": [
    "X['registration'] = X['days_registration'].apply(lambda x: int(x / -365))"
   ]
  },
  {
   "cell_type": "code",
   "execution_count": 971,
   "metadata": {},
   "outputs": [],
   "source": [
    "X['ext_source_1_dum'] = pd.cut(X['ext_source_1'], bins=[0,.4,1], labels=[0, 1])"
   ]
  },
  {
   "cell_type": "code",
   "execution_count": 1043,
   "metadata": {},
   "outputs": [],
   "source": [
    "X['car_cat'] = X['own_car_age'].apply(lambda x: 0 if x <= 9 else 1)"
   ]
  },
  {
   "cell_type": "code",
   "execution_count": 1088,
   "metadata": {},
   "outputs": [
    {
     "name": "stdout",
     "output_type": "stream",
     "text": [
      "['Normalized information about building where the client lives, What is average (_AVG suffix), modus (_MODE suffix), median (_MEDI suffix) apartment size, common area, living area, age of building, number of elevators, number of entrances, state of the building, number of floor']\n"
     ]
    },
    {
     "data": {
      "image/png": "[encoded data removed]",
      "text/plain": [
       "<Figure size 576x396 with 1 Axes>"
      ]
     },
     "metadata": {},
     "output_type": "display_data"
    }
   ],
   "source": [
    "i = 105\n",
    "print(get_col_descr(num_features[i]))\n",
    "feature = num_features[i]\n",
    "feature = 'complete'\n",
    "#X[feature].fillna('missing', inplace=True)\n",
    "plt0 = X[(X.dataset == 'train') & (X.target == 0)][feature]\n",
    "plt1 = X[(X.dataset == 'train') & (X.target == 1)][feature]\n",
    "plt.title(str(num_features[i]))\n",
    "hist_print(plt1, plt0)"
   ]
  },
  {
   "cell_type": "code",
   "execution_count": 872,
   "metadata": {},
   "outputs": [
    {
     "data": {
      "text/plain": [
       "count    304809.000000\n",
       "mean          0.416274\n",
       "std           0.721454\n",
       "min           0.000000\n",
       "25%           0.000000\n",
       "50%           0.000000\n",
       "75%           1.000000\n",
       "max          19.000000\n",
       "Name: cnt_children, dtype: float64"
      ]
     },
     "execution_count": 872,
     "metadata": {},
     "output_type": "execute_result"
    }
   ],
   "source": [
    "train[num_features[16]].describe()"
   ]
  },
  {
   "cell_type": "code",
   "execution_count": 854,
   "metadata": {},
   "outputs": [
    {
     "name": "stdout",
     "output_type": "stream",
     "text": [
      "<class 'pandas.core.frame.DataFrame'>\n",
      "Int64Index: 304809 entries, 0 to 307510\n",
      "Data columns (total 106 columns):\n",
      "amt_annuity                     304797 non-null float64\n",
      "amt_credit                      304809 non-null float64\n",
      "amt_goods_price                 304533 non-null float64\n",
      "amt_income_total                304809 non-null float64\n",
      "amt_req_credit_bureau_day       263566 non-null float64\n",
      "amt_req_credit_bureau_hour      263566 non-null float64\n",
      "amt_req_credit_bureau_mon       263566 non-null float64\n",
      "amt_req_credit_bureau_qrt       263566 non-null float64\n",
      "amt_req_credit_bureau_week      263566 non-null float64\n",
      "amt_req_credit_bureau_year      263566 non-null float64\n",
      "apartments_avg                  149621 non-null float64\n",
      "apartments_medi                 149621 non-null float64\n",
      "apartments_mode                 149621 non-null float64\n",
      "basementarea_avg                125956 non-null float64\n",
      "basementarea_medi               125956 non-null float64\n",
      "basementarea_mode               125956 non-null float64\n",
      "cnt_children                    304809 non-null int64\n",
      "cnt_fam_members                 304807 non-null float64\n",
      "commonarea_avg                  91404 non-null float64\n",
      "commonarea_medi                 91404 non-null float64\n",
      "commonarea_mode                 91404 non-null float64\n",
      "days_birth                      304809 non-null int64\n",
      "days_employed                   304809 non-null int64\n",
      "days_id_publish                 304809 non-null int64\n",
      "days_last_phone_change          304808 non-null float64\n",
      "days_registration               304809 non-null float64\n",
      "def_30_cnt_social_circle        303839 non-null float64\n",
      "def_60_cnt_social_circle        303839 non-null float64\n",
      "elevators_avg                   141851 non-null float64\n",
      "elevators_medi                  141851 non-null float64\n",
      "elevators_mode                  141851 non-null float64\n",
      "entrances_avg                   150843 non-null float64\n",
      "entrances_medi                  150843 non-null float64\n",
      "entrances_mode                  150843 non-null float64\n",
      "ext_source_1                    132751 non-null float64\n",
      "ext_source_2                    304154 non-null float64\n",
      "ext_source_3                    244264 non-null float64\n",
      "flag_cont_mobile                304809 non-null int64\n",
      "flag_document_10                304809 non-null int64\n",
      "flag_document_11                304809 non-null int64\n",
      "flag_document_12                304809 non-null int64\n",
      "flag_document_13                304809 non-null int64\n",
      "flag_document_14                304809 non-null int64\n",
      "flag_document_15                304809 non-null int64\n",
      "flag_document_16                304809 non-null int64\n",
      "flag_document_17                304809 non-null int64\n",
      "flag_document_18                304809 non-null int64\n",
      "flag_document_19                304809 non-null int64\n",
      "flag_document_2                 304809 non-null int64\n",
      "flag_document_20                304809 non-null int64\n",
      "flag_document_21                304809 non-null int64\n",
      "flag_document_3                 304809 non-null int64\n",
      "flag_document_4                 304809 non-null int64\n",
      "flag_document_5                 304809 non-null int64\n",
      "flag_document_6                 304809 non-null int64\n",
      "flag_document_7                 304809 non-null int64\n",
      "flag_document_8                 304809 non-null int64\n",
      "flag_document_9                 304809 non-null int64\n",
      "flag_email                      304809 non-null int64\n",
      "flag_emp_phone                  304809 non-null int64\n",
      "flag_mobil                      304809 non-null int64\n",
      "flag_phone                      304809 non-null int64\n",
      "flag_work_phone                 304809 non-null int64\n",
      "floorsmax_avg                   152638 non-null float64\n",
      "floorsmax_medi                  152638 non-null float64\n",
      "floorsmax_mode                  152638 non-null float64\n",
      "floorsmin_avg                   97537 non-null float64\n",
      "floorsmin_medi                  97537 non-null float64\n",
      "floorsmin_mode                  97537 non-null float64\n",
      "hour_appr_process_start         304809 non-null int64\n",
      "landarea_avg                    123399 non-null float64\n",
      "landarea_medi                   123399 non-null float64\n",
      "landarea_mode                   123399 non-null float64\n",
      "live_city_not_work_city         304809 non-null int64\n",
      "live_region_not_work_region     304809 non-null int64\n",
      "livingapartments_avg            96008 non-null float64\n",
      "livingapartments_medi           96008 non-null float64\n",
      "livingapartments_mode           96008 non-null float64\n",
      "livingarea_avg                  151340 non-null float64\n",
      "livingarea_medi                 151340 non-null float64\n",
      "livingarea_mode                 151340 non-null float64\n",
      "nonlivingapartments_avg         92725 non-null float64\n",
      "nonlivingapartments_medi        92725 non-null float64\n",
      "nonlivingapartments_mode        92725 non-null float64\n",
      "nonlivingarea_avg               136134 non-null float64\n",
      "nonlivingarea_medi              136134 non-null float64\n",
      "nonlivingarea_mode              136134 non-null float64\n",
      "obs_30_cnt_social_circle        303839 non-null float64\n",
      "obs_60_cnt_social_circle        303839 non-null float64\n",
      "own_car_age                     102869 non-null float64\n",
      "reg_city_not_live_city          304809 non-null int64\n",
      "reg_city_not_work_city          304809 non-null int64\n",
      "reg_region_not_live_region      304809 non-null int64\n",
      "reg_region_not_work_region      304809 non-null int64\n",
      "region_population_relative      304809 non-null float64\n",
      "region_rating_client            304809 non-null int64\n",
      "region_rating_client_w_city     304809 non-null int64\n",
      "sk_id_curr                      304809 non-null int64\n",
      "target                          304809 non-null int64\n",
      "totalarea_mode                  157198 non-null float64\n",
      "years_beginexpluatation_avg     155634 non-null float64\n",
      "years_beginexpluatation_medi    155634 non-null float64\n",
      "years_beginexpluatation_mode    155634 non-null float64\n",
      "years_build_avg                 101639 non-null float64\n",
      "years_build_medi                101639 non-null float64\n",
      "years_build_mode                101639 non-null float64\n",
      "dtypes: float64(65), int64(41)\n",
      "memory usage: 248.8 MB\n"
     ]
    }
   ],
   "source": [
    "train[num_features].info(verbose=True, null_counts=True)"
   ]
  },
  {
   "cell_type": "code",
   "execution_count": 626,
   "metadata": {},
   "outputs": [
    {
     "data": {
      "text/html": [
       "<div>\n",
       "<style scoped>\n",
       "    .dataframe tbody tr th:only-of-type {\n",
       "        vertical-align: middle;\n",
       "    }\n",
       "\n",
       "    .dataframe tbody tr th {\n",
       "        vertical-align: top;\n",
       "    }\n",
       "\n",
       "    .dataframe thead th {\n",
       "        text-align: right;\n",
       "    }\n",
       "</style>\n",
       "<table border=\"1\" class=\"dataframe\">\n",
       "  <thead>\n",
       "    <tr style=\"text-align: right;\">\n",
       "      <th></th>\n",
       "      <th>Number</th>\n",
       "      <th>Percentage</th>\n",
       "    </tr>\n",
       "  </thead>\n",
       "  <tbody>\n",
       "    <tr>\n",
       "      <th>amt_annuity</th>\n",
       "      <td>36</td>\n",
       "      <td>0.01</td>\n",
       "    </tr>\n",
       "    <tr>\n",
       "      <th>amt_goods_price</th>\n",
       "      <td>278</td>\n",
       "      <td>0.08</td>\n",
       "    </tr>\n",
       "    <tr>\n",
       "      <th>amt_req_credit_bureau_day</th>\n",
       "      <td>47568</td>\n",
       "      <td>13.35</td>\n",
       "    </tr>\n",
       "    <tr>\n",
       "      <th>amt_req_credit_bureau_hour</th>\n",
       "      <td>47568</td>\n",
       "      <td>13.35</td>\n",
       "    </tr>\n",
       "    <tr>\n",
       "      <th>amt_req_credit_bureau_mon</th>\n",
       "      <td>47568</td>\n",
       "      <td>13.35</td>\n",
       "    </tr>\n",
       "    <tr>\n",
       "      <th>amt_req_credit_bureau_qrt</th>\n",
       "      <td>47568</td>\n",
       "      <td>13.35</td>\n",
       "    </tr>\n",
       "    <tr>\n",
       "      <th>amt_req_credit_bureau_week</th>\n",
       "      <td>47568</td>\n",
       "      <td>13.35</td>\n",
       "    </tr>\n",
       "    <tr>\n",
       "      <th>amt_req_credit_bureau_year</th>\n",
       "      <td>47568</td>\n",
       "      <td>13.35</td>\n",
       "    </tr>\n",
       "    <tr>\n",
       "      <th>apartments_avg</th>\n",
       "      <td>179948</td>\n",
       "      <td>50.51</td>\n",
       "    </tr>\n",
       "    <tr>\n",
       "      <th>apartments_medi</th>\n",
       "      <td>179948</td>\n",
       "      <td>50.51</td>\n",
       "    </tr>\n",
       "    <tr>\n",
       "      <th>apartments_mode</th>\n",
       "      <td>179948</td>\n",
       "      <td>50.51</td>\n",
       "    </tr>\n",
       "    <tr>\n",
       "      <th>basementarea_avg</th>\n",
       "      <td>207584</td>\n",
       "      <td>58.27</td>\n",
       "    </tr>\n",
       "    <tr>\n",
       "      <th>basementarea_medi</th>\n",
       "      <td>207584</td>\n",
       "      <td>58.27</td>\n",
       "    </tr>\n",
       "    <tr>\n",
       "      <th>basementarea_mode</th>\n",
       "      <td>207584</td>\n",
       "      <td>58.27</td>\n",
       "    </tr>\n",
       "    <tr>\n",
       "      <th>commonarea_avg</th>\n",
       "      <td>248360</td>\n",
       "      <td>69.71</td>\n",
       "    </tr>\n",
       "    <tr>\n",
       "      <th>commonarea_medi</th>\n",
       "      <td>248360</td>\n",
       "      <td>69.71</td>\n",
       "    </tr>\n",
       "    <tr>\n",
       "      <th>commonarea_mode</th>\n",
       "      <td>248360</td>\n",
       "      <td>69.71</td>\n",
       "    </tr>\n",
       "    <tr>\n",
       "      <th>def_30_cnt_social_circle</th>\n",
       "      <td>1050</td>\n",
       "      <td>0.29</td>\n",
       "    </tr>\n",
       "    <tr>\n",
       "      <th>def_60_cnt_social_circle</th>\n",
       "      <td>1050</td>\n",
       "      <td>0.29</td>\n",
       "    </tr>\n",
       "    <tr>\n",
       "      <th>elevators_avg</th>\n",
       "      <td>189080</td>\n",
       "      <td>53.07</td>\n",
       "    </tr>\n",
       "    <tr>\n",
       "      <th>elevators_medi</th>\n",
       "      <td>189080</td>\n",
       "      <td>53.07</td>\n",
       "    </tr>\n",
       "    <tr>\n",
       "      <th>elevators_mode</th>\n",
       "      <td>189080</td>\n",
       "      <td>53.07</td>\n",
       "    </tr>\n",
       "    <tr>\n",
       "      <th>entrances_avg</th>\n",
       "      <td>178407</td>\n",
       "      <td>50.08</td>\n",
       "    </tr>\n",
       "    <tr>\n",
       "      <th>entrances_medi</th>\n",
       "      <td>178407</td>\n",
       "      <td>50.08</td>\n",
       "    </tr>\n",
       "    <tr>\n",
       "      <th>entrances_mode</th>\n",
       "      <td>178407</td>\n",
       "      <td>50.08</td>\n",
       "    </tr>\n",
       "    <tr>\n",
       "      <th>ext_source_1</th>\n",
       "      <td>193910</td>\n",
       "      <td>54.43</td>\n",
       "    </tr>\n",
       "    <tr>\n",
       "      <th>ext_source_2</th>\n",
       "      <td>668</td>\n",
       "      <td>0.19</td>\n",
       "    </tr>\n",
       "    <tr>\n",
       "      <th>ext_source_3</th>\n",
       "      <td>69633</td>\n",
       "      <td>19.55</td>\n",
       "    </tr>\n",
       "    <tr>\n",
       "      <th>floorsmax_avg</th>\n",
       "      <td>176341</td>\n",
       "      <td>49.50</td>\n",
       "    </tr>\n",
       "    <tr>\n",
       "      <th>floorsmax_medi</th>\n",
       "      <td>176341</td>\n",
       "      <td>49.50</td>\n",
       "    </tr>\n",
       "    <tr>\n",
       "      <th>floorsmax_mode</th>\n",
       "      <td>176341</td>\n",
       "      <td>49.50</td>\n",
       "    </tr>\n",
       "    <tr>\n",
       "      <th>floorsmin_avg</th>\n",
       "      <td>241108</td>\n",
       "      <td>67.68</td>\n",
       "    </tr>\n",
       "    <tr>\n",
       "      <th>floorsmin_medi</th>\n",
       "      <td>241108</td>\n",
       "      <td>67.68</td>\n",
       "    </tr>\n",
       "    <tr>\n",
       "      <th>floorsmin_mode</th>\n",
       "      <td>241108</td>\n",
       "      <td>67.68</td>\n",
       "    </tr>\n",
       "    <tr>\n",
       "      <th>landarea_avg</th>\n",
       "      <td>210844</td>\n",
       "      <td>59.18</td>\n",
       "    </tr>\n",
       "    <tr>\n",
       "      <th>landarea_medi</th>\n",
       "      <td>210844</td>\n",
       "      <td>59.18</td>\n",
       "    </tr>\n",
       "    <tr>\n",
       "      <th>landarea_mode</th>\n",
       "      <td>210844</td>\n",
       "      <td>59.18</td>\n",
       "    </tr>\n",
       "    <tr>\n",
       "      <th>livingapartments_avg</th>\n",
       "      <td>242979</td>\n",
       "      <td>68.20</td>\n",
       "    </tr>\n",
       "    <tr>\n",
       "      <th>livingapartments_medi</th>\n",
       "      <td>242979</td>\n",
       "      <td>68.20</td>\n",
       "    </tr>\n",
       "    <tr>\n",
       "      <th>livingapartments_mode</th>\n",
       "      <td>242979</td>\n",
       "      <td>68.20</td>\n",
       "    </tr>\n",
       "    <tr>\n",
       "      <th>livingarea_avg</th>\n",
       "      <td>177902</td>\n",
       "      <td>49.94</td>\n",
       "    </tr>\n",
       "    <tr>\n",
       "      <th>livingarea_medi</th>\n",
       "      <td>177902</td>\n",
       "      <td>49.94</td>\n",
       "    </tr>\n",
       "    <tr>\n",
       "      <th>livingarea_mode</th>\n",
       "      <td>177902</td>\n",
       "      <td>49.94</td>\n",
       "    </tr>\n",
       "    <tr>\n",
       "      <th>nonlivingapartments_avg</th>\n",
       "      <td>246861</td>\n",
       "      <td>69.29</td>\n",
       "    </tr>\n",
       "    <tr>\n",
       "      <th>nonlivingapartments_medi</th>\n",
       "      <td>246861</td>\n",
       "      <td>69.29</td>\n",
       "    </tr>\n",
       "    <tr>\n",
       "      <th>nonlivingapartments_mode</th>\n",
       "      <td>246861</td>\n",
       "      <td>69.29</td>\n",
       "    </tr>\n",
       "    <tr>\n",
       "      <th>nonlivingarea_avg</th>\n",
       "      <td>195766</td>\n",
       "      <td>54.95</td>\n",
       "    </tr>\n",
       "    <tr>\n",
       "      <th>nonlivingarea_medi</th>\n",
       "      <td>195766</td>\n",
       "      <td>54.95</td>\n",
       "    </tr>\n",
       "    <tr>\n",
       "      <th>nonlivingarea_mode</th>\n",
       "      <td>195766</td>\n",
       "      <td>54.95</td>\n",
       "    </tr>\n",
       "    <tr>\n",
       "      <th>obs_30_cnt_social_circle</th>\n",
       "      <td>1050</td>\n",
       "      <td>0.29</td>\n",
       "    </tr>\n",
       "    <tr>\n",
       "      <th>obs_60_cnt_social_circle</th>\n",
       "      <td>1050</td>\n",
       "      <td>0.29</td>\n",
       "    </tr>\n",
       "    <tr>\n",
       "      <th>own_car_age</th>\n",
       "      <td>235241</td>\n",
       "      <td>66.03</td>\n",
       "    </tr>\n",
       "    <tr>\n",
       "      <th>totalarea_mode</th>\n",
       "      <td>171055</td>\n",
       "      <td>48.01</td>\n",
       "    </tr>\n",
       "    <tr>\n",
       "      <th>years_beginexpluatation_avg</th>\n",
       "      <td>172863</td>\n",
       "      <td>48.52</td>\n",
       "    </tr>\n",
       "    <tr>\n",
       "      <th>years_beginexpluatation_medi</th>\n",
       "      <td>172863</td>\n",
       "      <td>48.52</td>\n",
       "    </tr>\n",
       "    <tr>\n",
       "      <th>years_beginexpluatation_mode</th>\n",
       "      <td>172863</td>\n",
       "      <td>48.52</td>\n",
       "    </tr>\n",
       "    <tr>\n",
       "      <th>years_build_avg</th>\n",
       "      <td>236306</td>\n",
       "      <td>66.33</td>\n",
       "    </tr>\n",
       "    <tr>\n",
       "      <th>years_build_medi</th>\n",
       "      <td>236306</td>\n",
       "      <td>66.33</td>\n",
       "    </tr>\n",
       "    <tr>\n",
       "      <th>years_build_mode</th>\n",
       "      <td>236306</td>\n",
       "      <td>66.33</td>\n",
       "    </tr>\n",
       "  </tbody>\n",
       "</table>\n",
       "</div>"
      ],
      "text/plain": [
       "                              Number  Percentage\n",
       "amt_annuity                       36        0.01\n",
       "amt_goods_price                  278        0.08\n",
       "amt_req_credit_bureau_day      47568       13.35\n",
       "amt_req_credit_bureau_hour     47568       13.35\n",
       "amt_req_credit_bureau_mon      47568       13.35\n",
       "amt_req_credit_bureau_qrt      47568       13.35\n",
       "amt_req_credit_bureau_week     47568       13.35\n",
       "amt_req_credit_bureau_year     47568       13.35\n",
       "apartments_avg                179948       50.51\n",
       "apartments_medi               179948       50.51\n",
       "apartments_mode               179948       50.51\n",
       "basementarea_avg              207584       58.27\n",
       "basementarea_medi             207584       58.27\n",
       "basementarea_mode             207584       58.27\n",
       "commonarea_avg                248360       69.71\n",
       "commonarea_medi               248360       69.71\n",
       "commonarea_mode               248360       69.71\n",
       "def_30_cnt_social_circle        1050        0.29\n",
       "def_60_cnt_social_circle        1050        0.29\n",
       "elevators_avg                 189080       53.07\n",
       "elevators_medi                189080       53.07\n",
       "elevators_mode                189080       53.07\n",
       "entrances_avg                 178407       50.08\n",
       "entrances_medi                178407       50.08\n",
       "entrances_mode                178407       50.08\n",
       "ext_source_1                  193910       54.43\n",
       "ext_source_2                     668        0.19\n",
       "ext_source_3                   69633       19.55\n",
       "floorsmax_avg                 176341       49.50\n",
       "floorsmax_medi                176341       49.50\n",
       "floorsmax_mode                176341       49.50\n",
       "floorsmin_avg                 241108       67.68\n",
       "floorsmin_medi                241108       67.68\n",
       "floorsmin_mode                241108       67.68\n",
       "landarea_avg                  210844       59.18\n",
       "landarea_medi                 210844       59.18\n",
       "landarea_mode                 210844       59.18\n",
       "livingapartments_avg          242979       68.20\n",
       "livingapartments_medi         242979       68.20\n",
       "livingapartments_mode         242979       68.20\n",
       "livingarea_avg                177902       49.94\n",
       "livingarea_medi               177902       49.94\n",
       "livingarea_mode               177902       49.94\n",
       "nonlivingapartments_avg       246861       69.29\n",
       "nonlivingapartments_medi      246861       69.29\n",
       "nonlivingapartments_mode      246861       69.29\n",
       "nonlivingarea_avg             195766       54.95\n",
       "nonlivingarea_medi            195766       54.95\n",
       "nonlivingarea_mode            195766       54.95\n",
       "obs_30_cnt_social_circle        1050        0.29\n",
       "obs_60_cnt_social_circle        1050        0.29\n",
       "own_car_age                   235241       66.03\n",
       "totalarea_mode                171055       48.01\n",
       "years_beginexpluatation_avg   172863       48.52\n",
       "years_beginexpluatation_medi  172863       48.52\n",
       "years_beginexpluatation_mode  172863       48.52\n",
       "years_build_avg               236306       66.33\n",
       "years_build_medi              236306       66.33\n",
       "years_build_mode              236306       66.33"
      ]
     },
     "execution_count": 626,
     "metadata": {},
     "output_type": "execute_result"
    }
   ],
   "source": [
    "missing = pd.DataFrame(X[num_features].isnull().sum(),columns=['Number'])\n",
    "missing['Percentage'] = round(missing.Number/X[num_features].shape[0]*100,2)\n",
    "missing[missing.Percentage!=0]"
   ]
  },
  {
   "cell_type": "code",
   "execution_count": 698,
   "metadata": {},
   "outputs": [
    {
     "data": {
      "text/plain": [
       "count    304809.000000\n",
       "mean          0.000003\n",
       "std           0.001811\n",
       "min           0.000000\n",
       "25%           0.000000\n",
       "50%           0.000000\n",
       "75%           0.000000\n",
       "max           1.000000\n",
       "Name: flag_document_12, dtype: float64"
      ]
     },
     "execution_count": 698,
     "metadata": {},
     "output_type": "execute_result"
    }
   ],
   "source": [
    "train[num_features[40]].describe()"
   ]
  },
  {
   "cell_type": "code",
   "execution_count": 653,
   "metadata": {},
   "outputs": [],
   "source": [
    "train = train[train[num_features[3]] < 500000]"
   ]
  },
  {
   "cell_type": "code",
   "execution_count": 654,
   "metadata": {},
   "outputs": [
    {
     "data": {
      "text/plain": [
       "<matplotlib.axes._subplots.AxesSubplot at 0x1a35d08a90>"
      ]
     },
     "execution_count": 654,
     "metadata": {},
     "output_type": "execute_result"
    },
    {
     "data": {
      "image/png": "[encoded data removed]",
      "text/plain": [
       "<Figure size 576x396 with 1 Axes>"
      ]
     },
     "metadata": {},
     "output_type": "display_data"
    }
   ],
   "source": [
    "train[num_features[3]].hist()"
   ]
  },
  {
   "cell_type": "code",
   "execution_count": 652,
   "metadata": {},
   "outputs": [
    {
     "data": {
      "text/plain": [
       "990000.0"
      ]
     },
     "execution_count": 652,
     "metadata": {},
     "output_type": "execute_result"
    }
   ],
   "source": [
    "train[train.target == 1].amt_income_total.max()"
   ]
  },
  {
   "cell_type": "code",
   "execution_count": 1098,
   "metadata": {},
   "outputs": [],
   "source": [
    "X['nan_count'] = X.isna().sum(axis=1)\n",
    "X['nan_count'] = X['nan_count'].apply(lambda x: 1 if x > 60 else 0)"
   ]
  },
  {
   "cell_type": "code",
   "execution_count": 1099,
   "metadata": {},
   "outputs": [
    {
     "data": {
      "image/png": "[encoded data removed]",
      "text/plain": [
       "<Figure size 576x396 with 1 Axes>"
      ]
     },
     "metadata": {},
     "output_type": "display_data"
    }
   ],
   "source": [
    "plt0 = X[(X.dataset == 'train') & (X.target == 0)].nan_count\n",
    "plt1 = X[(X.dataset == 'train') & (X.target == 1)].nan_count\n",
    "#plt.title(str(num_features[i]))\n",
    "hist_print(plt1, plt0)"
   ]
  },
  {
   "cell_type": "code",
   "execution_count": null,
   "metadata": {},
   "outputs": [],
   "source": []
  },
  {
   "cell_type": "code",
   "execution_count": null,
   "metadata": {},
   "outputs": [],
   "source": []
  },
  {
   "cell_type": "code",
   "execution_count": null,
   "metadata": {},
   "outputs": [],
   "source": []
  },
  {
   "cell_type": "code",
   "execution_count": null,
   "metadata": {},
   "outputs": [],
   "source": []
  },
  {
   "cell_type": "code",
   "execution_count": null,
   "metadata": {},
   "outputs": [],
   "source": []
  },
  {
   "cell_type": "code",
   "execution_count": null,
   "metadata": {},
   "outputs": [],
   "source": []
  },
  {
   "cell_type": "code",
   "execution_count": null,
   "metadata": {},
   "outputs": [],
   "source": []
  },
  {
   "cell_type": "code",
   "execution_count": null,
   "metadata": {},
   "outputs": [],
   "source": []
  },
  {
   "cell_type": "code",
   "execution_count": null,
   "metadata": {},
   "outputs": [],
   "source": []
  },
  {
   "cell_type": "code",
   "execution_count": 403,
   "metadata": {},
   "outputs": [],
   "source": [
    "X_train = X[X.dataset == 'train'].drop(['target', 'dataset'], axis=1)\n",
    "X_test = X[X.dataset == 'test'].drop(['target', 'dataset'], axis=1)\n",
    "y_train = X[X.dataset == 'train'].target\n",
    "y_test = X[X.dataset == 'test'].target\n",
    "\n",
    "X.drop('dataset', axis=1, inplace=True)"
   ]
  },
  {
   "cell_type": "code",
   "execution_count": 404,
   "metadata": {},
   "outputs": [
    {
     "name": "stdout",
     "output_type": "stream",
     "text": [
      "X_train shape: (252137, 121)\n",
      "X_test shape: (39470, 121)\n",
      "y_train shape: (252137,)\n",
      "y_test shape: (39470,)\n",
      "X shape: (291607, 122)\n"
     ]
    }
   ],
   "source": [
    "print('X_train shape:', X_train.shape)\n",
    "print('X_test shape:', X_test.shape)\n",
    "print('y_train shape:', y_train.shape)\n",
    "print('y_test shape:', y_test.shape)\n",
    "print('X shape:', X.shape)"
   ]
  },
  {
   "cell_type": "code",
   "execution_count": 405,
   "metadata": {},
   "outputs": [],
   "source": [
    "num_features = list(X.columns[X.dtypes!=object])\n",
    "num_features.remove('target')\n",
    "cat_features = list(X.columns[X.dtypes==object])"
   ]
  },
  {
   "cell_type": "code",
   "execution_count": 406,
   "metadata": {},
   "outputs": [],
   "source": [
    "from sklearn.impute import KNNImputer\n",
    "from sklearn.pipeline import Pipeline\n",
    "from sklearn.compose import ColumnTransformer\n",
    "\n",
    "# Pipline for numerical features\n",
    "num_pipeline = Pipeline([\n",
    "    #('imputer_num', KNNImputer(n_neighbors=2, weights='uniform')),\n",
    "    ('imputer_num', SimpleImputer(strategy='median')),\n",
    "    ('std_scaler', StandardScaler())\n",
    "])\n",
    "\n",
    "# Pipeline for categorical features \n",
    "cat_pipeline = Pipeline([\n",
    "    ('imputer_cat', SimpleImputer(strategy='constant', fill_value='missing')),\n",
    "    ('1hot', OneHotEncoder(handle_unknown='ignore'))\n",
    "])"
   ]
  },
  {
   "cell_type": "code",
   "execution_count": 407,
   "metadata": {},
   "outputs": [],
   "source": [
    "# Complete pipeline\n",
    "preprocessor = ColumnTransformer([\n",
    "    ('num', num_pipeline, num_features),\n",
    "    ('cat', cat_pipeline, cat_features)\n",
    "])"
   ]
  },
  {
   "cell_type": "code",
   "execution_count": 408,
   "metadata": {},
   "outputs": [],
   "source": [
    "# Building a full pipeline with our preprocessor and a LogisticRegression Classifier\n",
    "pipe_logreg = Pipeline([\n",
    "    ('preprocessor', preprocessor),\n",
    "    #('logreg', LogisticRegression(max_iter=1000, class_weight={0:.2, 1:.8}))\n",
    "    ('classifier', RandomForestClassifier(n_estimators=50))\n",
    "    #('xgboost', xgb.XGBClassifier(n_estimators=1000, learning_rate=0.05))\n",
    "])"
   ]
  },
  {
   "cell_type": "code",
   "execution_count": 409,
   "metadata": {},
   "outputs": [
    {
     "name": "stderr",
     "output_type": "stream",
     "text": [
      "[Parallel(n_jobs=1)]: Using backend SequentialBackend with 1 concurrent workers.\n",
      "[Parallel(n_jobs=1)]: Done   1 out of   1 | elapsed:  1.2min remaining:    0.0s\n",
      "[Parallel(n_jobs=1)]: Done   2 out of   2 | elapsed:  2.0min remaining:    0.0s\n",
      "[Parallel(n_jobs=1)]: Done   3 out of   3 | elapsed:  2.8min remaining:    0.0s\n",
      "[Parallel(n_jobs=1)]: Done   4 out of   4 | elapsed:  3.7min remaining:    0.0s\n",
      "[Parallel(n_jobs=1)]: Done   5 out of   5 | elapsed:  4.5min finished\n"
     ]
    }
   ],
   "source": [
    "# Making predictions on the training set using cross validation as well as calculating the probabilities \n",
    "y_train_predicted = cross_val_predict(pipe_logreg, X_train, y_train, cv=5, verbose=5)"
   ]
  },
  {
   "cell_type": "code",
   "execution_count": 410,
   "metadata": {
    "scrolled": true
   },
   "outputs": [
    {
     "name": "stdout",
     "output_type": "stream",
     "text": [
      "Cross validation scores:\n",
      "-------------------------\n",
      "Accuracy: 0.91\n",
      "Recall: 0.00\n",
      "Precision: 0.47\n"
     ]
    }
   ],
   "source": [
    "# Calculating the accuracy for the LogisticRegression Classifier \n",
    "print('Cross validation scores:')\n",
    "print('-------------------------')\n",
    "print(\"Accuracy: {:.2f}\".format(accuracy_score(y_train, y_train_predicted)))\n",
    "print(\"Recall: {:.2f}\".format(recall_score(y_train, y_train_predicted)))\n",
    "print(\"Precision: {:.2f}\".format(precision_score(y_train, y_train_predicted)))"
   ]
  },
  {
   "cell_type": "markdown",
   "metadata": {},
   "source": [
    "Accuracy: 0.69\n",
    "Recall: 0.34\n",
    "Precision: 0.10"
   ]
  },
  {
   "cell_type": "code",
   "execution_count": null,
   "metadata": {},
   "outputs": [],
   "source": []
  }
 ],
 "metadata": {
  "hide_input": false,
  "kernelspec": {
   "display_name": "Python [conda env:nf] *",
   "language": "python",
   "name": "conda-env-nf-py"
  },
  "language_info": {
   "codemirror_mode": {
    "name": "ipython",
    "version": 3
   },
   "file_extension": ".py",
   "mimetype": "text/x-python",
   "name": "python",
   "nbconvert_exporter": "python",
   "pygments_lexer": "ipython3",
   "version": "3.6.10"
  },
  "toc": {
   "base_numbering": 1,
   "nav_menu": {},
   "number_sections": true,
   "sideBar": true,
   "skip_h1_title": false,
   "title_cell": "Table of Contents",
   "title_sidebar": "Contents",
   "toc_cell": false,
   "toc_position": {},
   "toc_section_display": true,
   "toc_window_display": false
  },
  "varInspector": {
   "cols": {
    "lenName": 16,
    "lenType": 16,
    "lenVar": 40
   },
   "kernels_config": {
    "python": {
     "delete_cmd_postfix": "",
     "delete_cmd_prefix": "del ",
     "library": "var_list.py",
     "varRefreshCmd": "print(var_dic_list())"
    },
    "r": {
     "delete_cmd_postfix": ") ",
     "delete_cmd_prefix": "rm(",
     "library": "var_list.r",
     "varRefreshCmd": "cat(var_dic_list()) "
    }
   },
   "types_to_exclude": [
    "module",
    "function",
    "builtin_function_or_method",
    "instance",
    "_Feature"
   ],
   "window_display": false
  }
 },
 "nbformat": 4,
 "nbformat_minor": 4
}
